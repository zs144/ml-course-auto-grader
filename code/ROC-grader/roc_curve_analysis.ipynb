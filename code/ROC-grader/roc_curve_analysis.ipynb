{
 "cells": [
  {
   "cell_type": "code",
   "execution_count": null,
   "metadata": {},
   "outputs": [],
   "source": [
    "# Import packages\n",
    "import numpy as np\n",
    "import pandas as pd\n",
    "import matplotlib.pyplot as plt\n",
    "%matplotlib inline\n",
    "\n",
    "# Set constants\n",
    "POS_INF = float(\"inf\")\n",
    "NEG_INF = float(\"-inf\")"
   ]
  },
  {
   "cell_type": "code",
   "execution_count": null,
   "metadata": {},
   "outputs": [],
   "source": [
    "def get_ROC_data(thresholds, df):\n",
    "    \"\"\"Create a Pandas dataframe contains thresholds, P_d and P_fa.\n",
    "\n",
    "    Parameters:\n",
    "        thresholds (pd.Series): a list of thresholds.\n",
    "\n",
    "    Returns:\n",
    "        A 3-column dataframe with first column as thresholds, second column as P_d,\n",
    "        and third column as P_fa.\n",
    "    \"\"\"\n",
    "    H0 = df[\"truth\"].value_counts().loc[0] # all true 0\n",
    "    H1 = df[\"truth\"].value_counts().loc[1] # all true 1\n",
    "    extra = pd.Series([POS_INF, NEG_INF])\n",
    "    ROC_data = pd.DataFrame(pd.concat([thresholds, extra], ignore_index=True), columns=[\"thresholds\"])\n",
    "    ROC_data[\"P_d\"] = ROC_data.apply(lambda row:\n",
    "                                sum((df[\"lambda\"]>=row.thresholds) & (df[\"truth\"]==1))/H1,\n",
    "                                axis = 1)\n",
    "    ROC_data[\"P_fa\"] = ROC_data.apply(lambda row:\n",
    "                                sum((df[\"lambda\"]>=row.thresholds) & (df[\"truth\"]==0))/H0,\n",
    "                                axis = 1)\n",
    "    return ROC_data"
   ]
  },
  {
   "cell_type": "code",
   "execution_count": null,
   "metadata": {},
   "outputs": [],
   "source": [
    "def draw_ROC(ROC_data, linecolor):\n",
    "    fig, ax = plt.subplots()\n",
    "    plt.xlabel(\"P_fa\")\n",
    "    plt.ylabel(\"P_d\")\n",
    "    plt.xlim(-0.01, 1.01)\n",
    "    plt.ylim(-0.01, 1.01)\n",
    "    ax.scatter(ROC_data[\"P_fa\"], ROC_data[\"P_d\"], color=linecolor, s=8, marker=\"o\")\n",
    "    ax.plot(ax.get_xlim(), ax.get_ylim(), c=\"Black\", alpha=0.6, ls='--')\n",
    "    plt.gca().set_box_aspect(1)\n",
    "    plt.show()"
   ]
  },
  {
   "cell_type": "code",
   "execution_count": null,
   "metadata": {},
   "outputs": [],
   "source": [
    "df = pd.read_csv(\"Data/moderateData.csv\", names=[\"truth\", \"lambda\"])"
   ]
  },
  {
   "cell_type": "code",
   "execution_count": null,
   "metadata": {},
   "outputs": [],
   "source": [
    "# Method 1: Every decision statistics as a threshold\n",
    "thresholds_1 = df[\"lambda\"].copy()\n",
    "ROC_data_1 = get_ROC_data(thresholds_1, df)\n",
    "draw_ROC(ROC_data_1, \"SteelBlue\")\n",
    "\n",
    "# Method 2: 99 linearly sample the decision statistics as a threshold\n",
    "min_lambda = df[\"lambda\"].min()\n",
    "max_lambda = df[\"lambda\"].max()\n",
    "thresholds_2 = pd.Series(np.linspace(min_lambda, max_lambda, 99))\n",
    "ROC_data_2 = get_ROC_data(thresholds_2, df)\n",
    "draw_ROC(ROC_data_2, \"Red\")\n",
    "\n",
    "# Method 3: sample every n-th decision statistics as a threshold\n",
    "n = df.shape[0] // 99 if df.shape[0] >= 99 else 1\n",
    "thresholds_3 =  df[\"lambda\"].copy().sort_values().iloc[::n]\n",
    "ROC_data_3 = get_ROC_data(thresholds_3, df)\n",
    "draw_ROC(ROC_data_3, \"Green\")\n",
    "\n",
    "# Method 4: every H0 decision statistic as a threshold\n",
    "thresholds_4 = df[\"lambda\"].copy()[df[\"truth\"]==0]\n",
    "ROC_data_4 = get_ROC_data(thresholds_4, df)\n",
    "draw_ROC(ROC_data_4, \"Orange\")\n",
    "\n",
    "# Method 5: thresholds selected so that PFA is linearly sampled from 0 to 1\n",
    "# at an interval of 0.01\n",
    "n = H0 // 100 if df.shape[0] >= 100 else 1\n",
    "thresholds_5 = df[\"lambda\"].copy()[df[\"truth\"]==0].sort_values().iloc[::n]\n",
    "ROC_data_5 = get_ROC_data(thresholds_5, df)\n",
    "draw_ROC(ROC_data_5, \"Purple\")"
   ]
  },
  {
   "cell_type": "code",
   "execution_count": null,
   "metadata": {},
   "outputs": [],
   "source": []
  }
 ],
 "metadata": {
  "language_info": {
   "name": "python"
  },
  "orig_nbformat": 4
 },
 "nbformat": 4,
 "nbformat_minor": 2
}
